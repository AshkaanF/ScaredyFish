{
 "cells": [
  {
   "cell_type": "code",
   "execution_count": 49,
   "metadata": {},
   "outputs": [
    {
     "data": {
      "text/plain": [
       "10×2 Array{Int64,2}:\n",
       " 10   4\n",
       "  9  10\n",
       "  9  10\n",
       "  8   8\n",
       "  4  10\n",
       "  1   3\n",
       "  1   1\n",
       "  8   9\n",
       "  4   3\n",
       "  8   6"
      ]
     },
     "execution_count": 49,
     "metadata": {},
     "output_type": "execute_result"
    }
   ],
   "source": [
    "x = rand(1:10, 10, 2)"
   ]
  },
  {
   "cell_type": "code",
   "execution_count": 79,
   "metadata": {},
   "outputs": [],
   "source": [
    "## function to calculate the thresholded distance matrix by neighbor search\n",
    "function neighborSearch()\n",
    "\n",
    "    ## blank distance matrix to fill in\n",
    "    blank = zeros( size( x )[ 1 ], size( x )[ 1 ] )\n",
    "\n",
    "    ## loop through and fill in appropriately\n",
    "    for ind in 1 : size( x )[ 1 ]\n",
    "\n",
    "        ## currX and Y\n",
    "        currX = 9.75\n",
    "        currY = 4.2\n",
    "\n",
    "        ## select the first for, as my current\n",
    "        tempX = x[ ind, 1 ]\n",
    "        tempY = x[ ind, 2 ]\n",
    "\n",
    "        ## range to look over\n",
    "        loX = tempX - 5\n",
    "        hiX = tempX + 5\n",
    "        loY = tempY - 5\n",
    "        hiY = tempY + 5\n",
    "\n",
    "        ## get indices of in-range agents\n",
    "        getThese = findall( \n",
    "            ( x[ :, 1] .> loX ) .& \n",
    "            ( x[ :, 1] .< hiX ) .& \n",
    "            ( x[ :, 2] .> loY ) .& \n",
    "            ( x[ :, 2] .< hiY ) )\n",
    "\n",
    "        ## remove self calculation\n",
    "        getThese = deleteat!( getThese, getThese .== ind )\n",
    "\n",
    "        ## get distances to current x and y; swap x here with real (not rounded) coords\n",
    "        neighborhood = colwise( Euclidean(), [ currX, currY ], transpose( x[ getThese, : ] ) )\n",
    "\n",
    "        ## fill in my blank matrix\n",
    "        blank[ ind, getThese ] = neighborhood\n",
    "        blank[ getThese, ind ] = neighborhood\n",
    "\n",
    "    end;\n",
    "\n",
    "    ## threshold the final product\n",
    "    blank[ blank .> sensory ] .= 0\n",
    "\n",
    "    ## convert to 1 / D ^ 2\n",
    "    blank[ blank .> 0 ] = 1 ./ blank[ blank .> 0 ] .^ 2\n",
    "    \n",
    "    ## return blank\n",
    "    return blank\n",
    "    \n",
    "end;"
   ]
  },
  {
   "cell_type": "code",
   "execution_count": 80,
   "metadata": {},
   "outputs": [
    {
     "data": {
      "text/plain": [
       "10×10 Array{Float64,2}:\n",
       " 0.0       0.0      0.0      0.320156  …  0.0      0.0      0.0      0.320156\n",
       " 0.0       0.0      5.84829  5.84829      0.0      5.84829  0.0      5.84829\n",
       " 0.0       5.84829  0.0      5.84829      0.0      5.84829  0.0      5.84829\n",
       " 0.320156  5.84829  5.84829  0.0          0.0      4.1836   0.0      4.1836\n",
       " 0.0       0.0      0.0      4.1836       0.0      8.16716  0.0      8.16716\n",
       " 0.0       0.0      0.0      0.0       …  8.8319   0.0      8.8319   0.0\n",
       " 0.0       0.0      0.0      0.0          0.0      0.0      9.31679  0.0\n",
       " 0.0       5.84829  5.84829  4.1836       0.0      0.0      0.0      5.10906\n",
       " 0.0       0.0      0.0      0.0          9.31679  0.0      0.0      5.87388\n",
       " 0.320156  5.84829  5.84829  4.1836       0.0      5.10906  5.87388  0.0"
      ]
     },
     "execution_count": 80,
     "metadata": {},
     "output_type": "execute_result"
    }
   ],
   "source": [
    "blank"
   ]
  },
  {
   "cell_type": "code",
   "execution_count": null,
   "metadata": {},
   "outputs": [],
   "source": []
  }
 ],
 "metadata": {
  "kernelspec": {
   "display_name": "Julia 1.5.2",
   "language": "julia",
   "name": "julia-1.5"
  },
  "language_info": {
   "file_extension": ".jl",
   "mimetype": "application/julia",
   "name": "julia",
   "version": "1.5.2"
  }
 },
 "nbformat": 4,
 "nbformat_minor": 4
}
